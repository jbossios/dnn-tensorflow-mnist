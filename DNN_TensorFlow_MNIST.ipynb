{
  "cells": [
    {
      "cell_type": "markdown",
      "metadata": {
        "id": "lFAyXHkaM4-T"
      },
      "source": [
        "# Deep Neural Network in TensorFlow\n",
        "\n",
        "This is an example of a fully-connected feed-forward neural network implemented in TensorFlow 2.x without relying on Keras, except for tf.keras.Model, tf.keras.layers.Layer and tf.keras.layers.RandomRotation\n",
        "\n",
        "This implementation has custom \"dense\", \"flatten\" and \"dropout\" layers. EarlyStopping, Adam and the loss function are all implemented from scratch. Finally, the training loop is also made explicit.\n",
        "\n",
        "An hyperparameter optimization is also done using grid search."
      ]
    },
    {
      "cell_type": "markdown",
      "metadata": {
        "id": "ZyBORn9PMykH"
      },
      "source": [
        "## Load dependencies"
      ]
    },
    {
      "cell_type": "code",
      "execution_count": 211,
      "metadata": {
        "id": "j_iwIQvlMRnE"
      },
      "outputs": [],
      "source": [
        "import numpy as np\n",
        "import tensorflow as tf\n",
        "import seaborn as sns\n",
        "import matplotlib.pyplot as plt\n",
        "import tensorflow_datasets as tfds\n",
        "from sklearn.metrics import confusion_matrix\n",
        "import copy\n",
        "import random"
      ]
    },
    {
      "cell_type": "markdown",
      "metadata": {
        "id": "l8pB4qVhNXuD"
      },
      "source": [
        "## Set Seeds"
      ]
    },
    {
      "cell_type": "code",
      "execution_count": 212,
      "metadata": {
        "id": "f8rVPY8mNaHf"
      },
      "outputs": [],
      "source": [
        "seed = 42\n",
        "np.random.seed(seed)\n",
        "tf.random.set_seed(seed)\n",
        "random.seed(seed)"
      ]
    },
    {
      "cell_type": "markdown",
      "metadata": {
        "id": "5Ap5TKgiNe3Y"
      },
      "source": [
        "## Load data"
      ]
    },
    {
      "cell_type": "code",
      "execution_count": 160,
      "metadata": {
        "colab": {
          "base_uri": "https://localhost:8080/",
          "height": 85,
          "referenced_widgets": [
            "77664b41254d4f1381589a0887c771a5",
            "563aea50f96c4c1ba3de52b7de7f205a",
            "af739c21c0e241daaf0fdd030283f995",
            "175bd3f914e14d7c81c04c2363dbb3d2",
            "d93d99c4557f4d4e83f4633964fa39bd",
            "f9f283f834ae4412b88c240efccd9a14",
            "85325bd06aa241b381f9a9cadff86237",
            "9eaf3ce342304df491a9270d9040fb62",
            "2222795a07204daa8c904f53707d1c45",
            "0abe14206fb540a79dbf70dc57e14564",
            "db6ed50e6e7c4ce88a34c1be521908ec"
          ]
        },
        "id": "-nZSA4nWNf_K",
        "outputId": "bfed4630-4cf4-4d31-b026-3a8cdf63db25"
      },
      "outputs": [],
      "source": [
        "ds_train, ds_val = tfds.load(\n",
        "  'mnist',\n",
        "  split=['train', 'test'],\n",
        "  shuffle_files=True,\n",
        "  as_supervised=True,  # returns a tuple (img, label)\n",
        ")"
      ]
    },
    {
      "cell_type": "code",
      "execution_count": 161,
      "metadata": {
        "colab": {
          "base_uri": "https://localhost:8080/"
        },
        "id": "QwfIC9GtcfTS",
        "outputId": "4ebb7b49-6341-4500-ab7e-5db4151d173f"
      },
      "outputs": [
        {
          "name": "stdout",
          "output_type": "stream",
          "text": [
            "Number of training images: 60000\n"
          ]
        }
      ],
      "source": [
        "# Print the number of training images\n",
        "train_size = tf.data.experimental.cardinality(ds_train)\n",
        "print(\"Number of training images:\", train_size.numpy())"
      ]
    },
    {
      "cell_type": "code",
      "execution_count": 162,
      "metadata": {
        "colab": {
          "base_uri": "https://localhost:8080/"
        },
        "id": "n7zcpvVyBdBw",
        "outputId": "26f22c0b-0e8e-49b5-a316-4ca9a0474b11"
      },
      "outputs": [
        {
          "name": "stdout",
          "output_type": "stream",
          "text": [
            "Number of validation images: 10000\n"
          ]
        }
      ],
      "source": [
        "# Print the number of validation images\n",
        "val_size = tf.data.experimental.cardinality(ds_val)\n",
        "print(\"Number of validation images:\", val_size.numpy())"
      ]
    },
    {
      "cell_type": "markdown",
      "metadata": {
        "id": "63-arO0eO9Eg"
      },
      "source": [
        "## Set hyperparameters of the deep nueral network"
      ]
    },
    {
      "cell_type": "code",
      "execution_count": 163,
      "metadata": {
        "id": "yqteu2CdPB_U"
      },
      "outputs": [],
      "source": [
        "lr = 0.001  # learning_rate\n",
        "epochs = 30\n",
        "batch_size = 256"
      ]
    },
    {
      "cell_type": "markdown",
      "metadata": {
        "id": "J1iUotlJp_90"
      },
      "source": [
        "## Set the architecture of the deep neural network"
      ]
    },
    {
      "cell_type": "code",
      "execution_count": 164,
      "metadata": {
        "id": "PrwjXziSp9wt"
      },
      "outputs": [],
      "source": [
        "architecture = {\n",
        "  'n_input': 784,\n",
        "  'n_dense_1': 512,\n",
        "  'n_classes': 10,\n",
        "  'dropout_rate': 0.25,\n",
        "  'rotation_factor': 0.1\n",
        "}"
      ]
    },
    {
      "cell_type": "markdown",
      "metadata": {
        "id": "jIp1maGqa9kG"
      },
      "source": [
        "## Preprocess the images (normalize, shuffle, batch, etc)"
      ]
    },
    {
      "cell_type": "code",
      "execution_count": 165,
      "metadata": {
        "id": "VIScMh71njM3"
      },
      "outputs": [],
      "source": [
        "# Define the preprocessing function\n",
        "def preprocess(image, label):\n",
        "  image = tf.cast(image, tf.float32)\n",
        "  image = tf.divide(image, 255.0)\n",
        "  label = tf.one_hot(label, depth=architecture['n_classes'])  # One-hot encoding\n",
        "  return image, label\n",
        "\n",
        "# Apply preprocessing to the datasets and shuffle and batch\n",
        "ds_train = ds_train.map(preprocess).shuffle(10000).batch(batch_size, drop_remainder=True)\n",
        "ds_val = ds_val.map(preprocess).batch(batch_size, drop_remainder=True)"
      ]
    },
    {
      "cell_type": "code",
      "execution_count": 166,
      "metadata": {
        "id": "nsfAR0tZnD3B"
      },
      "outputs": [],
      "source": [
        "# Compute the mean and standard deviation of the pixel values in the training dataset\n",
        "num_samples = 0\n",
        "sum_pixels = 0.0\n",
        "sum_pixels_squared = 0.0\n",
        "\n",
        "for image, _ in ds_train:\n",
        "    num_samples += 1\n",
        "    sum_pixels += tf.reduce_sum(tf.cast(image, tf.float32))\n",
        "    sum_pixels_squared += tf.reduce_sum(tf.square(tf.cast(image, tf.float32)))\n",
        "\n",
        "mean_train = sum_pixels / (batch_size * num_samples * 28 * 28)\n",
        "stddev_train = tf.sqrt(sum_pixels_squared / (batch_size * num_samples * 28 * 28) - tf.square(mean_train))\n",
        "mean_train = mean_train.numpy()\n",
        "stddev_train = stddev_train.numpy()"
      ]
    },
    {
      "cell_type": "code",
      "execution_count": 167,
      "metadata": {
        "id": "XEY3srJfa9JV"
      },
      "outputs": [],
      "source": [
        "# Define the normalization preprocessing function\n",
        "def preprocess(image, label):\n",
        "  image = (image - mean_train) / stddev_train\n",
        "  return image, label\n",
        "\n",
        "# Apply normalization to the training dataset\n",
        "ds_train = ds_train.map(preprocess)"
      ]
    },
    {
      "cell_type": "code",
      "execution_count": 168,
      "metadata": {
        "id": "RrC8gjmZOCev"
      },
      "outputs": [],
      "source": [
        "# Compute the mean and standard deviation of the pixel values in the validation dataset\n",
        "num_samples = 0\n",
        "sum_pixels = 0.0\n",
        "sum_pixels_squared = 0.0\n",
        "\n",
        "for image, _ in ds_val:\n",
        "    num_samples += 1\n",
        "    sum_pixels += tf.reduce_sum(tf.cast(image, tf.float32))\n",
        "    sum_pixels_squared += tf.reduce_sum(tf.square(tf.cast(image, tf.float32)))\n",
        "\n",
        "mean_val = sum_pixels / (batch_size * num_samples * 28 * 28)\n",
        "stddev_val = tf.sqrt(sum_pixels_squared / (batch_size * num_samples * 28 * 28) - tf.square(mean_val))\n",
        "mean_val = mean_val.numpy()\n",
        "stddev_val = stddev_val.numpy()"
      ]
    },
    {
      "cell_type": "code",
      "execution_count": 169,
      "metadata": {
        "id": "GXOzM0-kOF0W"
      },
      "outputs": [],
      "source": [
        "# Define the normalization preprocessing function\n",
        "def preprocess(image, label):\n",
        "  image = (image - mean_val) / stddev_val\n",
        "  return image, label\n",
        "\n",
        "# Apply normalization to the validation dataset\n",
        "ds_val = ds_val.map(preprocess)"
      ]
    },
    {
      "cell_type": "markdown",
      "metadata": {
        "id": "d5_1fMdGRLHY"
      },
      "source": [
        "## Define the layers"
      ]
    },
    {
      "cell_type": "code",
      "execution_count": 170,
      "metadata": {
        "id": "3dIgX2BSUHat"
      },
      "outputs": [],
      "source": [
        "class DenseLayer(tf.keras.layers.Layer):\n",
        "  def __init__(self, units=64):\n",
        "    super(DenseLayer, self).__init__()\n",
        "    self.units = units\n",
        "\n",
        "  def build(self, input_shape):\n",
        "    self.w = self.add_weight(shape=(input_shape[-1], self.units),\n",
        "                              initializer='random_normal',\n",
        "                              trainable=True,\n",
        "                              name='w')\n",
        "    self.b = self.add_weight(shape=(self.units,),\n",
        "                              initializer='zeros',\n",
        "                              trainable=True,\n",
        "                              name='b')\n",
        "\n",
        "  def call(self, inputs):\n",
        "    return tf.matmul(inputs, self.w) + self.b"
      ]
    },
    {
      "cell_type": "code",
      "execution_count": 171,
      "metadata": {
        "id": "e8HAeuKYEUvP"
      },
      "outputs": [],
      "source": [
        "class DropoutLayer(tf.keras.layers.Layer):\n",
        "  def __init__(self, rate, seed = 42):\n",
        "    super(DropoutLayer, self).__init__()\n",
        "    self.rate = rate\n",
        "    self.seed = rate\n",
        "\n",
        "  def call(self, x, training):\n",
        "    if training:\n",
        "      return tf.nn.dropout(x, rate=self.rate, seed=self.seed)\n",
        "    return x"
      ]
    },
    {
      "cell_type": "code",
      "execution_count": 172,
      "metadata": {
        "id": "x8egMLyiLcQ2"
      },
      "outputs": [],
      "source": [
        "class FlattenLayer(tf.keras.layers.Layer):\n",
        "  def __init__(self):\n",
        "    super(FlattenLayer, self).__init__()\n",
        "\n",
        "  def call(self, inputs):\n",
        "    input_shape = tf.shape(inputs)\n",
        "    flattened_shape = tf.stack([input_shape[0], input_shape[1] * input_shape[2]])\n",
        "    return tf.reshape(inputs, flattened_shape)"
      ]
    },
    {
      "cell_type": "markdown",
      "metadata": {
        "id": "ZDBzktYpRZFM"
      },
      "source": [
        "## Design the deep neural network"
      ]
    },
    {
      "cell_type": "code",
      "execution_count": 173,
      "metadata": {
        "id": "oTzGseZg0z3O"
      },
      "outputs": [],
      "source": [
        "class EarlyStopping():\n",
        "  def __init__(self, min_delta, patience, restore_best_weights=True, verbosity=0):\n",
        "    self.min_delta = min_delta\n",
        "    self.patience = patience\n",
        "    self.restore_best_weights = restore_best_weights\n",
        "    self.best_val_loss = float('inf')\n",
        "    self.wait = 0\n",
        "    self.best_weights = None\n",
        "    self.verbosity = verbosity\n",
        "\n",
        "  def on_epoch_end(self, epoch, model, val_loss):\n",
        "    if (self.best_val_loss - val_loss) > self.min_delta:\n",
        "      if self.verbosity:\n",
        "        print(f'Saving model weights from epoch: {epoch+1}')\n",
        "      self.best_val_loss = val_loss\n",
        "      self.wait = 0\n",
        "      self.best_weights = model.get_weights()\n",
        "      # Save the best model to a file\n",
        "      model.save_weights('best_model_checkpoint.h5')\n",
        "    else:\n",
        "      self.wait += 1\n",
        "      if self.wait >= self.patience:\n",
        "        print(f'Early stopping at epoch {epoch+1}')\n",
        "        return 1\n",
        "    return 0\n",
        "\n",
        "  def on_train_end(self, model):\n",
        "    if self.restore_best_weights:\n",
        "      model.set_weights(self.best_weights)"
      ]
    },
    {
      "cell_type": "code",
      "execution_count": 207,
      "metadata": {
        "id": "48TqJHGIUtYd"
      },
      "outputs": [],
      "source": [
        "class Model(tf.keras.Model):\n",
        "  def __init__(self, architecture, verbosity=1):\n",
        "    super(Model, self).__init__()\n",
        "    self.flatten = FlattenLayer()\n",
        "    self.dropout = DropoutLayer(architecture['dropout_rate'])\n",
        "    self.dense1 = DenseLayer(architecture['n_dense_1'])\n",
        "    if 'n_dense_2' in architecture:\n",
        "      self.dense2 = DenseLayer(architecture['n_dense_2'])\n",
        "      if 'n_dense_3' in architecture:\n",
        "        self.dense3 = DenseLayer(architecture['n_dense_3'])\n",
        "    self.out_layer = DenseLayer(architecture['n_classes'])\n",
        "    self.verbosity = verbosity\n",
        "    if architecture['rotation_factor'] != 0:\n",
        "      self.rotate = tf.keras.layers.RandomRotation(architecture['rotation_factor'], seed=42)\n",
        "    else:\n",
        "      self.rotate = None\n",
        "\n",
        "  def call(self, inputs, training=False):\n",
        "    \"\"\" Forward pass \"\"\"\n",
        "    if self.rotate is not None:\n",
        "      x = self.rotate(inputs, training)\n",
        "      x = self.flatten(x)\n",
        "    else:\n",
        "      x = self.flatten(inputs)\n",
        "    x = tf.nn.relu(self.dense1(x))\n",
        "    x = self.dropout(x, training)\n",
        "    if hasattr(self, 'dense2'):\n",
        "      x = tf.nn.relu(self.dense2(x))\n",
        "      x = self.dropout(x, training)\n",
        "      if hasattr(self, 'dense3'):\n",
        "        x = tf.nn.relu(self.dense3(x))\n",
        "        x = self.dropout(x, training)\n",
        "    return self.out_layer(x)\n",
        "\n",
        "  def compile(self, input_shape, loss, optimizer) -> None:\n",
        "    # Build the model to ensure all variables are created\n",
        "    self.build(input_shape)\n",
        "    # Set loss function and optimizer\n",
        "    self.loss_fn = loss\n",
        "    self.optimizer = optimizer\n",
        "    # Explicitly call self.optimizer.build() with the full list of trainable variables\n",
        "    self.optimizer.build(self.trainable_variables)\n",
        "\n",
        "  def train_step(self, data):\n",
        "    \"\"\" Train the model and return loss and accuracy \"\"\"\n",
        "    train_loss = 0.0\n",
        "    train_accuracy = 0.0\n",
        "    n_batches = len(data)\n",
        "    total_images = 0\n",
        "    # Loop over batches\n",
        "    for images, labels in data:\n",
        "      with tf.GradientTape() as tape:\n",
        "        logits = self(images, training=True)\n",
        "        loss = self.loss_fn(labels, logits)\n",
        "        train_loss += loss\n",
        "        train_accuracy += tf.reduce_sum(tf.cast(tf.argmax(logits, axis=1) == tf.argmax(labels, axis=1), tf.float32))\n",
        "        total_images += tf.cast(tf.shape(images)[0], tf.float32)  # append number of images in this batch\n",
        "      # Calculate gradients\n",
        "      gradients = tape.gradient(loss, self.trainable_variables)\n",
        "      # Use gradients to update weights/biases\n",
        "      self.optimizer.apply_gradients(gradients, self.trainable_variables)\n",
        "    train_loss /= n_batches\n",
        "    train_accuracy /= total_images\n",
        "    return train_loss, train_accuracy\n",
        "\n",
        "  def val_step(self, data):\n",
        "    \"\"\" Evaluate the model and return loss and accuracy \"\"\"\n",
        "    val_loss = 0.0\n",
        "    val_accuracy = 0.0\n",
        "    n_batches = len(data)\n",
        "    total_images = 0\n",
        "    # Loop over batches\n",
        "    for images, labels in data:\n",
        "      logits = self(images, training=False)\n",
        "      batch_loss = self.loss_fn(labels, logits)\n",
        "      val_loss += batch_loss\n",
        "      val_accuracy += tf.reduce_sum(tf.cast(tf.argmax(logits, axis=1) == tf.argmax(labels, axis=1), tf.float32))\n",
        "      total_images += tf.cast(tf.shape(images)[0], tf.float32)  # append number of images in this batch\n",
        "    val_loss /= n_batches\n",
        "    val_accuracy /= total_images\n",
        "    return val_loss, val_accuracy\n",
        "\n",
        "  def eval(self, data):\n",
        "    # Evaluate the model and measure the accuracy\n",
        "    accuracy = 0.0\n",
        "    total_images = 0\n",
        "    for images, labels in data:\n",
        "      logits = self(images, training=False)\n",
        "      accuracy += tf.reduce_sum(tf.cast(tf.argmax(logits, axis=1) == tf.argmax(labels, axis=1), tf.float32))\n",
        "      total_images += tf.cast(tf.shape(images)[0], tf.float32)  # append number of images in this batch\n",
        "    accuracy /= total_images\n",
        "    return accuracy\n",
        "\n",
        "  def predict(self, data):\n",
        "    # Evaluate the model and get predictions\n",
        "    predictions = []\n",
        "    for images, labels in data:\n",
        "      logits = self(images, training=False)\n",
        "      predictions.extend(tf.argmax(logits, axis=1).numpy())\n",
        "    predictions = np.array(predictions)\n",
        "    return predictions\n",
        "\n",
        "  def train(self, epochs, train_data, val_data, callbacks):\n",
        "    if self.verbosity: print(f'Will train for {epochs} epochs...')\n",
        "    train_losses = []\n",
        "    train_accuracies = []\n",
        "    val_losses = []\n",
        "    val_accuracies = []\n",
        "\n",
        "    # Training loop\n",
        "    for epoch in range(epochs):\n",
        "      train_loss, train_accuracy = self.train_step(train_data)\n",
        "      train_losses.append(train_loss)\n",
        "      train_accuracies.append(train_accuracy)\n",
        "\n",
        "      # Evaluate the model in val data\n",
        "      if val_data is not None:\n",
        "        val_loss, val_accuracy = self.val_step(val_data)\n",
        "        val_losses.append(val_loss)\n",
        "        val_accuracies.append(val_accuracy)\n",
        "        if self.verbosity: print(f'Epoch {epoch+1}, train_loss: {train_loss}, val_loss: {val_loss}, val_acc: {val_accuracy}')\n",
        "      else:  # no validation data was provided\n",
        "        if self.verbosity: print(f'Epoch {epoch+1}, train_loss: {train_loss}, train_accuracy: {train_accuracy}')\n",
        "\n",
        "      # Run callbacks at end of epoch\n",
        "      if sum([callback.on_epoch_end(epoch, self, val_loss) for callback in callbacks]) > 0: break\n",
        "\n",
        "    # Run callbacks at end of training\n",
        "    for callback in callbacks:\n",
        "      callback.on_train_end(self)\n",
        "\n",
        "    return {\n",
        "      'loss': train_losses,\n",
        "      'accuracy': train_accuracies,\n",
        "      'val_loss': val_losses,\n",
        "      'val_accuracy': val_accuracies\n",
        "    }"
      ]
    },
    {
      "cell_type": "markdown",
      "metadata": {
        "id": "pag8e_GPTnn2"
      },
      "source": [
        "## Build model and define the loss and the optimizer"
      ]
    },
    {
      "cell_type": "code",
      "execution_count": 175,
      "metadata": {
        "id": "MW1XgkVDMr8v"
      },
      "outputs": [],
      "source": [
        "class CategoricalCrossentropy():\n",
        "  def __init__(self, from_logits=False):\n",
        "    self.from_logits = from_logits\n",
        "\n",
        "  def __call__(self, y_true, y_pred):\n",
        "    # Apply softmax to logits\n",
        "    if self.from_logits:\n",
        "      y_pred = tf.nn.softmax(y_pred)\n",
        "\n",
        "    # Avoid numerical instability by clipping values\n",
        "    epsilon = np.finfo(np.float32).eps\n",
        "    y_pred = tf.clip_by_value(y_pred, epsilon, 1. - epsilon)\n",
        "\n",
        "    # Compute cross-entropy loss\n",
        "    loss = -tf.reduce_mean(tf.reduce_sum(y_true * tf.math.log(y_pred), axis=-1))\n",
        "\n",
        "    return loss"
      ]
    },
    {
      "cell_type": "code",
      "execution_count": 176,
      "metadata": {
        "id": "zuRlpW0cqOKf"
      },
      "outputs": [],
      "source": [
        "class Adam:\n",
        "  def __init__(self, learning_rate=0.001, beta1=0.9, beta2=0.999, epsilon=1e-7):\n",
        "    self.learning_rate = learning_rate\n",
        "    self.beta1 = beta1\n",
        "    self.beta2 = beta2\n",
        "    self.epsilon = epsilon\n",
        "    self.m = None  # 1st momentum estimate\n",
        "    self.v = None  # 2nd momentum estimate\n",
        "    self.t = 0  # time step\n",
        "\n",
        "  def build(self, params):\n",
        "    # Necessary for compatibility\n",
        "    pass\n",
        "\n",
        "  def apply_gradients(self, gradients, params):\n",
        "    if self.m is None:\n",
        "      self.m = [tf.zeros_like(param) for param in params]\n",
        "      self.v = [tf.zeros_like(param) for param in params]\n",
        "\n",
        "    self.t += 1\n",
        "    lr_t = self.learning_rate * tf.math.sqrt(1 - tf.math.pow(self.beta2, self.t)) / (1 - tf.math.pow(self.beta1, self.t))\n",
        "\n",
        "    for i, (param, grad) in enumerate(zip(params, gradients)):\n",
        "      self.m[i] = self.beta1 * self.m[i] + (1 - self.beta1) * grad\n",
        "      self.v[i] = self.beta2 * self.v[i] + (1 - self.beta2) * tf.math.square(grad)\n",
        "      param.assign_sub(lr_t * self.m[i] / (tf.math.sqrt(self.v[i]) + self.epsilon))"
      ]
    },
    {
      "cell_type": "code",
      "execution_count": 177,
      "metadata": {
        "id": "ZSo6WUVgTpC0"
      },
      "outputs": [],
      "source": [
        "# Create an instance of my model and compile it\n",
        "model = Model(architecture)\n",
        "model.compile(\n",
        "  input_shape = (None, 28, 28),\n",
        "  loss = CategoricalCrossentropy(from_logits=True),  # from_logits=True since I'm not using softmax in last layer\n",
        "  optimizer = Adam(learning_rate = lr)\n",
        ")"
      ]
    },
    {
      "cell_type": "markdown",
      "metadata": {
        "id": "aCvkxn0mOm1T"
      },
      "source": [
        "## Define the parameters for early stopping"
      ]
    },
    {
      "cell_type": "code",
      "execution_count": 178,
      "metadata": {
        "id": "Q_mAIp6oMAd_"
      },
      "outputs": [],
      "source": [
        "class EarlyStopping():\n",
        "  def __init__(self, min_delta, patience, restore_best_weights=True, verbosity=0):\n",
        "    self.min_delta = min_delta\n",
        "    self.patience = patience\n",
        "    self.restore_best_weights = restore_best_weights\n",
        "    self.best_val_loss = float('inf')\n",
        "    self.wait = 0\n",
        "    self.best_weights = None\n",
        "    self.verbosity = verbosity\n",
        "\n",
        "  def on_epoch_end(self, epoch, model, val_loss):\n",
        "    if (self.best_val_loss - val_loss) > self.min_delta:\n",
        "      if self.verbosity:\n",
        "        print(f'Saving model weights from epoch: {epoch+1}')\n",
        "      self.best_val_loss = val_loss\n",
        "      self.wait = 0\n",
        "      self.best_weights = model.get_weights()\n",
        "      # Save the best model to a file\n",
        "      model.save_weights('best_model_checkpoint.h5')\n",
        "    else:\n",
        "      self.wait += 1\n",
        "      if self.wait >= self.patience:\n",
        "        print(f'Early stopping at epoch {epoch+1}')\n",
        "        return 1\n",
        "    return 0\n",
        "\n",
        "  def on_train_end(self, model):\n",
        "    if self.restore_best_weights and self.best_weights:\n",
        "      model.set_weights(self.best_weights)"
      ]
    },
    {
      "cell_type": "code",
      "execution_count": 179,
      "metadata": {
        "id": "DZawDhk2DFBo"
      },
      "outputs": [],
      "source": [
        "# Define parameters for early stopping\n",
        "min_delta = 0.005\n",
        "patience = 5\n",
        "restore_best_weights = True"
      ]
    },
    {
      "cell_type": "markdown",
      "metadata": {
        "id": "93ZA0e62g6BH"
      },
      "source": [
        "## Train the model"
      ]
    },
    {
      "cell_type": "markdown",
      "metadata": {
        "id": "A5K3Cj93h6X_"
      },
      "source": [
        "# **Play with archicture and batch size to reach closer to 100% accuracy in val data**\n",
        "\n",
        "Hyperparameter optimization?"
      ]
    },
    {
      "cell_type": "code",
      "execution_count": 180,
      "metadata": {
        "id": "IWOGVgLQQHTa"
      },
      "outputs": [],
      "source": [
        "callbacks = [\n",
        "  EarlyStopping(\n",
        "    min_delta = min_delta,\n",
        "    patience = patience,\n",
        "    restore_best_weights = restore_best_weights,\n",
        "    verbosity = 0\n",
        "  )\n",
        "]"
      ]
    },
    {
      "cell_type": "code",
      "execution_count": 181,
      "metadata": {
        "colab": {
          "base_uri": "https://localhost:8080/"
        },
        "id": "mkfruO48Zy73",
        "outputId": "a6351483-beea-4c52-f8f5-e3ba8b92d447"
      },
      "outputs": [
        {
          "name": "stdout",
          "output_type": "stream",
          "text": [
            "Will train for 30 epochs...\n",
            "Epoch 1, train_loss: 0.4288146495819092, val_loss: 0.1835491955280304, val_acc: 0.9432091116905212\n",
            "Epoch 2, train_loss: 0.2092401683330536, val_loss: 0.12148957699537277, val_acc: 0.9645432829856873\n",
            "Epoch 3, train_loss: 0.16315823793411255, val_loss: 0.09740772843360901, val_acc: 0.9710536599159241\n",
            "Epoch 4, train_loss: 0.1400875449180603, val_loss: 0.09081103652715683, val_acc: 0.9731570482254028\n",
            "Epoch 5, train_loss: 0.1271609663963318, val_loss: 0.08499396592378616, val_acc: 0.9749599099159241\n",
            "Epoch 6, train_loss: 0.117369145154953, val_loss: 0.07600681483745575, val_acc: 0.9764623641967773\n",
            "Epoch 7, train_loss: 0.11178998649120331, val_loss: 0.07251107692718506, val_acc: 0.9784655570983887\n",
            "Epoch 8, train_loss: 0.1033596396446228, val_loss: 0.06921477615833282, val_acc: 0.9791666865348816\n",
            "Epoch 9, train_loss: 0.09946200996637344, val_loss: 0.06329432129859924, val_acc: 0.9802684187889099\n",
            "Epoch 10, train_loss: 0.09399347752332687, val_loss: 0.0625012218952179, val_acc: 0.9799679517745972\n",
            "Epoch 11, train_loss: 0.09156753867864609, val_loss: 0.06379544734954834, val_acc: 0.9815705418586731\n",
            "Epoch 12, train_loss: 0.08683169633150101, val_loss: 0.06044546142220497, val_acc: 0.9809695482254028\n",
            "Epoch 13, train_loss: 0.08547022938728333, val_loss: 0.06327112019062042, val_acc: 0.9801682829856873\n",
            "Epoch 14, train_loss: 0.08128368109464645, val_loss: 0.0578867644071579, val_acc: 0.9808694124221802\n",
            "Epoch 15, train_loss: 0.08139095455408096, val_loss: 0.054636213928461075, val_acc: 0.9828726053237915\n",
            "Epoch 16, train_loss: 0.07962192595005035, val_loss: 0.05235067382454872, val_acc: 0.9845753312110901\n",
            "Epoch 17, train_loss: 0.07376030087471008, val_loss: 0.06547646224498749, val_acc: 0.9801682829856873\n",
            "Epoch 18, train_loss: 0.073493592441082, val_loss: 0.056584298610687256, val_acc: 0.9814703464508057\n",
            "Epoch 19, train_loss: 0.07325368374586105, val_loss: 0.05397063121199608, val_acc: 0.9838742017745972\n",
            "Epoch 20, train_loss: 0.07229556143283844, val_loss: 0.057839538902044296, val_acc: 0.9839743375778198\n",
            "Epoch 21, train_loss: 0.06564746797084808, val_loss: 0.054582178592681885, val_acc: 0.9840745329856873\n",
            "Early stopping at epoch 21\n"
          ]
        }
      ],
      "source": [
        "history = model.train(epochs, ds_train, ds_val, callbacks)"
      ]
    },
    {
      "cell_type": "markdown",
      "metadata": {
        "id": "VybVrTd_tjDI"
      },
      "source": [
        "## Plot the loss and the accuracy"
      ]
    },
    {
      "cell_type": "code",
      "execution_count": 182,
      "metadata": {
        "id": "Ovg3aTqWtg7V"
      },
      "outputs": [],
      "source": [
        "def plot_loss(loss_dict) -> None:\n",
        "    \"\"\" Plot loss and val_loss \"\"\"\n",
        "    # Get losses\n",
        "    losses = loss_dict['loss']\n",
        "    val_losses = loss_dict['val_loss']\n",
        "    # Plot them\n",
        "    plt.figure('loss')\n",
        "    plt.plot(losses, label='loss', c='black')\n",
        "    plt.plot(val_losses, label='val_loss', c='red')\n",
        "    plt.xlabel('epoch')\n",
        "    plt.ylabel('loss')\n",
        "    plt.yscale('log')\n",
        "    plt.legend()\n",
        "    plt.show()"
      ]
    },
    {
      "cell_type": "code",
      "execution_count": 183,
      "metadata": {
        "colab": {
          "base_uri": "https://localhost:8080/",
          "height": 449
        },
        "id": "ziG-EKRztw6H",
        "outputId": "e2d32209-7bfb-419d-beb0-9af0e2da9f7f"
      },
      "outputs": [
        {
          "data": {
            "image/png": "[encoded data removed]",
            "text/plain": [
              "<Figure size 640x480 with 1 Axes>"
            ]
          },
          "metadata": {},
          "output_type": "display_data"
        }
      ],
      "source": [
        "plot_loss(history)"
      ]
    },
    {
      "cell_type": "code",
      "execution_count": 184,
      "metadata": {
        "id": "5s_5DxfUvLIJ"
      },
      "outputs": [],
      "source": [
        "def plot_acc(acc_dict) -> None:\n",
        "    \"\"\" Plot acc and acc_loss \"\"\"\n",
        "    # Get accuracies\n",
        "    acc = acc_dict['accuracy']\n",
        "    val_acc = acc_dict['val_accuracy']\n",
        "    # Plot them\n",
        "    plt.figure('acc')\n",
        "    plt.plot(acc, label='accuracy', c='black')\n",
        "    plt.plot(val_acc, label='val_accuracy', c='red')\n",
        "    plt.xlabel('epoch')\n",
        "    plt.ylabel('accuracy')\n",
        "    plt.legend()\n",
        "    plt.show()"
      ]
    },
    {
      "cell_type": "code",
      "execution_count": 185,
      "metadata": {
        "colab": {
          "base_uri": "https://localhost:8080/",
          "height": 449
        },
        "id": "j2YiVJT5vXMn",
        "outputId": "1b142438-59b9-4984-bc40-c9999b8d76ca"
      },
      "outputs": [
        {
          "data": {
            "image/png": "[encoded data removed]",
            "text/plain": [
              "<Figure size 640x480 with 1 Axes>"
            ]
          },
          "metadata": {},
          "output_type": "display_data"
        }
      ],
      "source": [
        "plot_acc(history)"
      ]
    },
    {
      "cell_type": "markdown",
      "metadata": {
        "id": "9jxSCZmDPVk3"
      },
      "source": [
        "## Evaluate the model in test data\n",
        "\n",
        "Note: I will use the validation dataset, but in a real-scenario a different dataset should be used"
      ]
    },
    {
      "cell_type": "code",
      "execution_count": 186,
      "metadata": {
        "colab": {
          "base_uri": "https://localhost:8080/"
        },
        "id": "OT3T8LktPQBj",
        "outputId": "d61d79f3-af3f-4b5f-ef79-272518d610af"
      },
      "outputs": [
        {
          "name": "stdout",
          "output_type": "stream",
          "text": [
            "Accuracy in test data: 0.9845753312110901\n"
          ]
        }
      ],
      "source": [
        "# Evaluate the model in val data\n",
        "test_accuracy = model.eval(ds_val)\n",
        "\n",
        "print(f'Accuracy in test data: {test_accuracy}')"
      ]
    },
    {
      "cell_type": "code",
      "execution_count": 187,
      "metadata": {
        "id": "LU38bJp2ykc8"
      },
      "outputs": [],
      "source": [
        "# Get predictions for val data\n",
        "predictions = model.predict(ds_val)"
      ]
    },
    {
      "cell_type": "code",
      "execution_count": 188,
      "metadata": {
        "colab": {
          "base_uri": "https://localhost:8080/"
        },
        "id": "TIlPUAxFPzDR",
        "outputId": "0ab35061-8444-4790-ac88-0408d8dc31d6"
      },
      "outputs": [
        {
          "name": "stdout",
          "output_type": "stream",
          "text": [
            "[2 0 4 ... 3 1 6]\n"
          ]
        }
      ],
      "source": [
        "print(predictions)"
      ]
    },
    {
      "cell_type": "code",
      "execution_count": 189,
      "metadata": {
        "colab": {
          "base_uri": "https://localhost:8080/"
        },
        "id": "OXkSuN69Qd_d",
        "outputId": "5c24170c-d5d6-44e9-8f5d-c2f0715f8e85"
      },
      "outputs": [
        {
          "name": "stdout",
          "output_type": "stream",
          "text": [
            "[2 0 4 ... 3 1 6]\n"
          ]
        }
      ],
      "source": [
        "# Get target labels from test data\n",
        "test_labels = []\n",
        "for images, labels in ds_val:\n",
        "  test_labels.extend(tf.argmax(labels, axis=1).numpy())\n",
        "test_labels = np.array(test_labels)\n",
        "print(test_labels)"
      ]
    },
    {
      "cell_type": "code",
      "execution_count": 190,
      "metadata": {
        "id": "abuKDXaNKuHl"
      },
      "outputs": [],
      "source": [
        "def plot_confusion_matrix(cm):\n",
        "  ax = sns.heatmap(cm, annot=True)\n",
        "  ax.set_title('x-axis: predicted labels, y-axis: true labels')\n",
        "  ax.get_figure().savefig('confusion_matrix.png')"
      ]
    },
    {
      "cell_type": "code",
      "execution_count": 191,
      "metadata": {
        "colab": {
          "base_uri": "https://localhost:8080/",
          "height": 452
        },
        "id": "JHXc5P6GKqfJ",
        "outputId": "17a0d8ca-3a5f-4836-b71f-15e5a31b4f52"
      },
      "outputs": [
        {
          "data": {
            "image/png": "[encoded data removed]",
            "text/plain": [
              "<Figure size 640x480 with 2 Axes>"
            ]
          },
          "metadata": {},
          "output_type": "display_data"
        }
      ],
      "source": [
        "# Calculate and plot confusion matrix\n",
        "# cm = confusion_matrix(to_numerical(data_dict['testing'][1]), labels_predicted)\n",
        "cm = confusion_matrix(test_labels, predictions)\n",
        "plot_confusion_matrix(cm)"
      ]
    },
    {
      "cell_type": "markdown",
      "metadata": {
        "id": "VgagNAKBGESu"
      },
      "source": [
        "# Hyperparameter optimization using grid search\n",
        "\n",
        "Hyperparameters to optimize:\n",
        "- Dropout: [0.15, 0.2, 0.25]\n",
        "- Batch size: [100, 200, 300, 400, 500]\n",
        "- Number of layers: [1, 2, 3]\n",
        "- Number of neurons by layer [[60, 120, 240, 500], [50, 60, 120, 250], [25, 30, 60, 125]]\n",
        "- learning rate: [0.01, 0.001, 0.005]\n",
        "\n",
        "epochs: 15 w/ Early Stopping"
      ]
    },
    {
      "cell_type": "code",
      "execution_count": 195,
      "metadata": {
        "colab": {
          "background_save": true,
          "base_uri": "https://localhost:8080/"
        },
        "id": "ScKwwef2GEFv",
        "outputId": "9d83db5c-8f03-43bc-d80e-910ac0f7dd0f"
      },
      "outputs": [
        {
          "name": "stdout",
          "output_type": "stream",
          "text": [
            "Training option 1...\n",
            "Early stopping at epoch 24\n",
            "  Best accuracy: 0.9700000286102295\n",
            "  Dropout rate: 0.2\n",
            "  Batch size: 200\n",
            "  Learning rate: 0.001\n",
            "  Number of layers: 1\n",
            "  Neurons: [60, 50, 25]\n",
            "Training option 2...\n",
            "Early stopping at epoch 19\n",
            "  Best accuracy: 0.9772999882698059\n",
            "  Dropout rate: 0.2\n",
            "  Batch size: 200\n",
            "  Learning rate: 0.001\n",
            "  Number of layers: 1\n",
            "  Neurons: [120, 60, 30]\n",
            "Training option 3...\n",
            "Early stopping at epoch 23\n",
            "  Best accuracy: 0.9815000295639038\n",
            "  Dropout rate: 0.2\n",
            "  Batch size: 200\n",
            "  Learning rate: 0.001\n",
            "  Number of layers: 1\n",
            "  Neurons: [240, 120, 60]\n",
            "Training option 4...\n",
            "Early stopping at epoch 15\n",
            "Training option 5...\n",
            "Early stopping at epoch 16\n",
            "Training option 6...\n",
            "Early stopping at epoch 21\n",
            "Training option 7...\n",
            "Early stopping at epoch 23\n",
            "Training option 8...\n",
            "Early stopping at epoch 14\n",
            "Training option 9...\n",
            "Early stopping at epoch 12\n",
            "Training option 10...\n",
            "Early stopping at epoch 15\n",
            "Training option 11...\n",
            "Early stopping at epoch 25\n",
            "Training option 12...\n",
            "Early stopping at epoch 23\n",
            "Training option 13...\n",
            "Early stopping at epoch 17\n",
            "Training option 14...\n",
            "Early stopping at epoch 19\n",
            "  Best accuracy: 0.9825999736785889\n",
            "  Dropout rate: 0.2\n",
            "  Batch size: 200\n",
            "  Learning rate: 0.001\n",
            "  Number of layers: 3\n",
            "  Neurons: [500, 250, 125]\n",
            "Training option 15...\n",
            "Early stopping at epoch 21\n",
            "Training option 16...\n",
            "Early stopping at epoch 20\n",
            "Training option 17...\n",
            "Early stopping at epoch 19\n",
            "Training option 18...\n",
            "Early stopping at epoch 16\n",
            "Training option 19...\n",
            "Early stopping at epoch 13\n",
            "Training option 20...\n",
            "Early stopping at epoch 17\n",
            "Training option 21...\n",
            "Early stopping at epoch 25\n",
            "Training option 22...\n",
            "Early stopping at epoch 26\n",
            "Training option 23...\n",
            "Early stopping at epoch 19\n",
            "Training option 24...\n",
            "Early stopping at epoch 17\n",
            "Training option 25...\n",
            "Early stopping at epoch 20\n",
            "  Best accuracy: 0.9850504994392395\n",
            "  Dropout rate: 0.2\n",
            "  Batch size: 300\n",
            "  Learning rate: 0.001\n",
            "  Number of layers: 2\n",
            "  Neurons: [600, 300, 150]\n",
            "Training option 26...\n",
            "Early stopping at epoch 26\n",
            "Training option 27...\n",
            "Early stopping at epoch 27\n",
            "Training option 28...\n",
            "Early stopping at epoch 21\n",
            "Training option 29...\n",
            "Early stopping at epoch 13\n",
            "Training option 30...\n",
            "Early stopping at epoch 16\n",
            "Training option 31...\n",
            "Early stopping at epoch 28\n",
            "Training option 32...\n",
            "Early stopping at epoch 26\n",
            "Training option 33...\n",
            "Early stopping at epoch 24\n",
            "Training option 34...\n",
            "Early stopping at epoch 17\n",
            "Training option 35...\n",
            "Early stopping at epoch 23\n",
            "Training option 36...\n",
            "Early stopping at epoch 26\n",
            "Training option 37...\n",
            "Early stopping at epoch 24\n",
            "Training option 38...\n",
            "Early stopping at epoch 23\n",
            "Training option 39...\n",
            "Early stopping at epoch 16\n",
            "Training option 40...\n",
            "Early stopping at epoch 15\n",
            "Training option 41...\n",
            "Early stopping at epoch 30\n",
            "Training option 42...\n",
            "Early stopping at epoch 25\n",
            "Training option 43...\n",
            "Early stopping at epoch 20\n",
            "Training option 44...\n",
            "Early stopping at epoch 17\n",
            "Training option 45...\n",
            "Early stopping at epoch 15\n",
            "Training option 46...\n",
            "Early stopping at epoch 25\n",
            "Training option 47...\n",
            "Early stopping at epoch 28\n",
            "Training option 48...\n",
            "Early stopping at epoch 25\n",
            "Training option 49...\n",
            "Early stopping at epoch 25\n",
            "Training option 50...\n",
            "Early stopping at epoch 20\n",
            "Training option 51...\n",
            "Training option 52...\n",
            "Early stopping at epoch 30\n",
            "Training option 53...\n",
            "Early stopping at epoch 22\n",
            "Training option 54...\n",
            "Early stopping at epoch 23\n",
            "Training option 55...\n",
            "Early stopping at epoch 15\n",
            "Training option 56...\n",
            "Early stopping at epoch 26\n",
            "Training option 57...\n",
            "Training option 58...\n",
            "Early stopping at epoch 25\n",
            "Training option 59...\n",
            "Early stopping at epoch 19\n",
            "Training option 60...\n",
            "Early stopping at epoch 19\n"
          ]
        }
      ],
      "source": [
        "# Define the preprocessing function\n",
        "def preprocess(image, label):\n",
        "  image = tf.cast(image, tf.float32)\n",
        "  image = tf.divide(image, 255.0)\n",
        "  label = tf.one_hot(label, depth=10)  # One-hot encoding\n",
        "  return image, label\n",
        "\n",
        "# Define the normalization preprocessing function\n",
        "def normalize_train(image, label):\n",
        "  image = (image - mean_train) / stddev_train\n",
        "  return image, label\n",
        "\n",
        "# Define the normalization preprocessing function\n",
        "def normalize_val(image, label):\n",
        "  image = (image - mean_val) / stddev_val\n",
        "  return image, label\n",
        "\n",
        "# Grid search\n",
        "dropout_rates = [0.15, 0.2, 0.25, 0.5]\n",
        "batch_sizes = [100, 200, 300, 500, 650]\n",
        "n_layer_options = [1, 2, 3]\n",
        "n_neurons_per_layer = [[60, 120, 240, 500, 600], [50, 60, 120, 250, 300], [25, 30, 60, 125, 150]]\n",
        "learning_rates = [0.01, 0.001, 0.005, 0.0001]\n",
        "\n",
        "# Get the data\n",
        "data_train, data_val = tfds.load(\n",
        "  'mnist',\n",
        "  split=['train', 'test'],\n",
        "  shuffle_files=True,\n",
        "  as_supervised=True,  # returns a tuple (img, label)\n",
        ")\n",
        "\n",
        "# Function to rebuild dataset\n",
        "def rebuild_dataset(dataset, preprocess_fn, normalize_fn, shuffle_seed=None, batch_size=None):\n",
        "    dataset = dataset.map(preprocess_fn)\n",
        "    if shuffle_seed is not None:\n",
        "      dataset = dataset.shuffle(shuffle_seed)\n",
        "    if batch_size is not None:\n",
        "      dataset = dataset.batch(batch_size, drop_remainder=True)\n",
        "    dataset = dataset.map(normalize_fn)\n",
        "    return dataset\n",
        "\n",
        "# Hyperparameter optimization\n",
        "best_accuracy = 0\n",
        "best_hyperparameters = {}\n",
        "epochs = 30\n",
        "counter = 0\n",
        "for dropout_rate in dropout_rates:\n",
        "  for batch_size in batch_sizes:\n",
        "    for n_layers in n_layer_options:\n",
        "      for i_option in range(len(n_neurons_per_layer[0])):\n",
        "        n_neurons_layer_1 = n_neurons_per_layer[0][i_option]\n",
        "        n_neurons_layer_2 = n_neurons_per_layer[1][i_option]\n",
        "        n_neurons_layer_3 = n_neurons_per_layer[2][i_option]\n",
        "        for learning_rate in learning_rates:\n",
        "          counter +=1\n",
        "          print(f'Training option {counter}...')\n",
        "          # Prepare the data\n",
        "          ds_train = rebuild_dataset(data_train, preprocess, normalize_train, 10000, batch_size)\n",
        "          ds_val = rebuild_dataset(data_val, preprocess, normalize_val, None, batch_size)\n",
        "          # Training preparations\n",
        "          architecture = {\n",
        "            'n_input': 784,\n",
        "            'n_dense_1': n_neurons_layer_1,\n",
        "            'n_classes': 10,\n",
        "            'dropout_rate': dropout_rate,\n",
        "            'rotation_factor': 0.1\n",
        "          }\n",
        "          if n_layers > 1:\n",
        "            architecture['n_dense_2'] = n_neurons_layer_2\n",
        "            if n_layers > 2:\n",
        "              architecture['n_dense_3'] = n_neurons_layer_3\n",
        "          # Create an instance of my model and compile it\n",
        "          model = Model(architecture, verbosity=0)\n",
        "          model.compile(\n",
        "            input_shape = (None, 28, 28),\n",
        "            loss = CategoricalCrossentropy(from_logits=True),  # from_logits=True since I'm not using softmax in last layer\n",
        "            optimizer = Adam(learning_rate = learning_rate)\n",
        "          )\n",
        "          # Train model\n",
        "          callbacks = [\n",
        "            EarlyStopping(\n",
        "              min_delta = min_delta,\n",
        "              patience = patience,\n",
        "              restore_best_weights = restore_best_weights,\n",
        "              verbosity = 0\n",
        "            )\n",
        "          ]\n",
        "          history = model.train(epochs, ds_train, ds_val, callbacks)\n",
        "          # Evaluate the model in val data\n",
        "          test_accuracy = model.eval(ds_val)\n",
        "          # Find best hyperparameters\n",
        "          if test_accuracy > best_accuracy:\n",
        "            best_accuracy = test_accuracy\n",
        "            print(f\"  Best accuracy: {best_accuracy}\")\n",
        "            print(f\"  Dropout rate: {dropout_rate}\")\n",
        "            print(f\"  Batch size: {batch_size}\")\n",
        "            print(f\"  Learning rate: {learning_rate}\")\n",
        "            print(f\"  Number of layers: {n_layers}\")\n",
        "            print(f\"  Neurons: [{n_neurons_layer_1}, {n_neurons_layer_2}, {n_neurons_layer_3}]\")\n",
        "            best_hyperparameters['dropout_rate'] = dropout_rate\n",
        "            best_hyperparameters['batch_size'] = batch_size\n",
        "            best_hyperparameters['n_layers'] = n_layers\n",
        "            best_hyperparameters['n_neurons_per_layer'] = [n_neurons_layer_1]\n",
        "            if n_layers > 1:\n",
        "              best_hyperparameters['n_neurons_per_layer'] += [n_neurons_layer_2]\n",
        "              if n_layers > 2:\n",
        "                best_hyperparameters['n_neurons_per_layer'] += [n_neurons_layer_3]\n",
        "            best_hyperparameters['learning_rate'] = learning_rate"
      ]
    },
    {
      "cell_type": "code",
      "execution_count": 222,
      "metadata": {},
      "outputs": [
        {
          "name": "stdout",
          "output_type": "stream",
          "text": [
            "Will train for 3 epochs...\n",
            "Epoch 1, train_loss: 0.4165040850639343, val_loss: 0.15193510055541992, val_acc: 0.9536363482475281\n",
            "Epoch 2, train_loss: 0.19438306987285614, val_loss: 0.1063937321305275, val_acc: 0.966464638710022\n",
            "Epoch 3, train_loss: 0.1537170559167862, val_loss: 0.09250553697347641, val_acc: 0.9702020287513733\n",
            "test_accuracy = <tf.Tensor: shape=(), dtype=float32, numpy=0.970202>\n"
          ]
        }
      ],
      "source": [
        "# Prepare the data\n",
        "batch_size = 300\n",
        "ds_train = rebuild_dataset(data_train, preprocess, normalize_train, 10000, batch_size)\n",
        "ds_val = rebuild_dataset(data_val, preprocess, normalize_val, None, batch_size)\n",
        "\n",
        "# Create an instance of my model and compile it\n",
        "learning_rate = 0.001\n",
        "architecture = {\n",
        "  'n_input': 784,\n",
        "  'n_dense_1': 600,\n",
        "  'n_dense_2': 300,\n",
        "  'n_classes': 10,\n",
        "  'dropout_rate': 0.2,\n",
        "  'rotation_factor': 0.1\n",
        "}\n",
        "model = Model(architecture, verbosity=1)\n",
        "model.compile(\n",
        "  input_shape = (None, 28, 28),\n",
        "  loss = CategoricalCrossentropy(from_logits=True),  # from_logits=True since I'm not using softmax in last layer\n",
        "  optimizer = Adam(learning_rate = learning_rate)\n",
        ")\n",
        "callbacks = [\n",
        "  EarlyStopping(\n",
        "    min_delta = min_delta,\n",
        "    patience = patience,\n",
        "    restore_best_weights = restore_best_weights,\n",
        "    verbosity = 0\n",
        "  )\n",
        "]\n",
        "epochs = 3\n",
        "history = model.train(epochs, ds_train, ds_val, callbacks)\n",
        "test_accuracy = model.eval(ds_val)\n",
        "print(f'{test_accuracy = }')"
      ]
    },
    {
      "cell_type": "code",
      "execution_count": 216,
      "metadata": {},
      "outputs": [
        {
          "data": {
            "image/png": "[encoded data removed]",
            "text/plain": [
              "<Figure size 640x480 with 1 Axes>"
            ]
          },
          "metadata": {},
          "output_type": "display_data"
        }
      ],
      "source": [
        "plot_loss(history)"
      ]
    },
    {
      "cell_type": "code",
      "execution_count": 217,
      "metadata": {},
      "outputs": [
        {
          "data": {
            "image/png": "[encoded data removed]",
            "text/plain": [
              "<Figure size 640x480 with 1 Axes>"
            ]
          },
          "metadata": {},
          "output_type": "display_data"
        }
      ],
      "source": [
        "plot_acc(history)"
      ]
    },
    {
      "cell_type": "code",
      "execution_count": 218,
      "metadata": {},
      "outputs": [
        {
          "data": {
            "image/png": "[encoded data removed]",
            "text/plain": [
              "<Figure size 640x480 with 2 Axes>"
            ]
          },
          "metadata": {},
          "output_type": "display_data"
        }
      ],
      "source": [
        "cm = confusion_matrix(test_labels, predictions)\n",
        "plot_confusion_matrix(cm)"
      ]
    }
  ],
  "metadata": {
    "accelerator": "GPU",
    "colab": {
      "gpuType": "T4",
      "provenance": []
    },
    "kernelspec": {
      "display_name": "Python 3",
      "name": "python3"
    },
    "language_info": {
      "codemirror_mode": {
        "name": "ipython",
        "version": 3
      },
      "file_extension": ".py",
      "mimetype": "text/x-python",
      "name": "python",
      "nbconvert_exporter": "python",
      "pygments_lexer": "ipython3",
      "version": "3.11.6"
    },
    "widgets": {
      "application/vnd.jupyter.widget-state+json": {
        "0abe14206fb540a79dbf70dc57e14564": {
          "model_module": "@jupyter-widgets/base",
          "model_module_version": "1.2.0",
          "model_name": "LayoutModel",
          "state": {
            "_model_module": "@jupyter-widgets/base",
            "_model_module_version": "1.2.0",
            "_model_name": "LayoutModel",
            "_view_count": null,
            "_view_module": "@jupyter-widgets/base",
            "_view_module_version": "1.2.0",
            "_view_name": "LayoutView",
            "align_content": null,
            "align_items": null,
            "align_self": null,
            "border": null,
            "bottom": null,
            "display": null,
            "flex": null,
            "flex_flow": null,
            "grid_area": null,
            "grid_auto_columns": null,
            "grid_auto_flow": null,
            "grid_auto_rows": null,
            "grid_column": null,
            "grid_gap": null,
            "grid_row": null,
            "grid_template_areas": null,
            "grid_template_columns": null,
            "grid_template_rows": null,
            "height": null,
            "justify_content": null,
            "justify_items": null,
            "left": null,
            "margin": null,
            "max_height": null,
            "max_width": null,
            "min_height": null,
            "min_width": null,
            "object_fit": null,
            "object_position": null,
            "order": null,
            "overflow": null,
            "overflow_x": null,
            "overflow_y": null,
            "padding": null,
            "right": null,
            "top": null,
            "visibility": null,
            "width": null
          }
        },
        "175bd3f914e14d7c81c04c2363dbb3d2": {
          "model_module": "@jupyter-widgets/controls",
          "model_module_version": "1.5.0",
          "model_name": "HTMLModel",
          "state": {
            "_dom_classes": [],
            "_model_module": "@jupyter-widgets/controls",
            "_model_module_version": "1.5.0",
            "_model_name": "HTMLModel",
            "_view_count": null,
            "_view_module": "@jupyter-widgets/controls",
            "_view_module_version": "1.5.0",
            "_view_name": "HTMLView",
            "description": "",
            "description_tooltip": null,
            "layout": "IPY_MODEL_0abe14206fb540a79dbf70dc57e14564",
            "placeholder": "​",
            "style": "IPY_MODEL_db6ed50e6e7c4ce88a34c1be521908ec",
            "value": " 5/5 [00:01&lt;00:00,  4.90 file/s]"
          }
        },
        "2222795a07204daa8c904f53707d1c45": {
          "model_module": "@jupyter-widgets/controls",
          "model_module_version": "1.5.0",
          "model_name": "ProgressStyleModel",
          "state": {
            "_model_module": "@jupyter-widgets/controls",
            "_model_module_version": "1.5.0",
            "_model_name": "ProgressStyleModel",
            "_view_count": null,
            "_view_module": "@jupyter-widgets/base",
            "_view_module_version": "1.2.0",
            "_view_name": "StyleView",
            "bar_color": null,
            "description_width": ""
          }
        },
        "563aea50f96c4c1ba3de52b7de7f205a": {
          "model_module": "@jupyter-widgets/controls",
          "model_module_version": "1.5.0",
          "model_name": "HTMLModel",
          "state": {
            "_dom_classes": [],
            "_model_module": "@jupyter-widgets/controls",
            "_model_module_version": "1.5.0",
            "_model_name": "HTMLModel",
            "_view_count": null,
            "_view_module": "@jupyter-widgets/controls",
            "_view_module_version": "1.5.0",
            "_view_name": "HTMLView",
            "description": "",
            "description_tooltip": null,
            "layout": "IPY_MODEL_f9f283f834ae4412b88c240efccd9a14",
            "placeholder": "​",
            "style": "IPY_MODEL_85325bd06aa241b381f9a9cadff86237",
            "value": "Dl Completed...: 100%"
          }
        },
        "77664b41254d4f1381589a0887c771a5": {
          "model_module": "@jupyter-widgets/controls",
          "model_module_version": "1.5.0",
          "model_name": "HBoxModel",
          "state": {
            "_dom_classes": [],
            "_model_module": "@jupyter-widgets/controls",
            "_model_module_version": "1.5.0",
            "_model_name": "HBoxModel",
            "_view_count": null,
            "_view_module": "@jupyter-widgets/controls",
            "_view_module_version": "1.5.0",
            "_view_name": "HBoxView",
            "box_style": "",
            "children": [
              "IPY_MODEL_563aea50f96c4c1ba3de52b7de7f205a",
              "IPY_MODEL_af739c21c0e241daaf0fdd030283f995",
              "IPY_MODEL_175bd3f914e14d7c81c04c2363dbb3d2"
            ],
            "layout": "IPY_MODEL_d93d99c4557f4d4e83f4633964fa39bd"
          }
        },
        "85325bd06aa241b381f9a9cadff86237": {
          "model_module": "@jupyter-widgets/controls",
          "model_module_version": "1.5.0",
          "model_name": "DescriptionStyleModel",
          "state": {
            "_model_module": "@jupyter-widgets/controls",
            "_model_module_version": "1.5.0",
            "_model_name": "DescriptionStyleModel",
            "_view_count": null,
            "_view_module": "@jupyter-widgets/base",
            "_view_module_version": "1.2.0",
            "_view_name": "StyleView",
            "description_width": ""
          }
        },
        "9eaf3ce342304df491a9270d9040fb62": {
          "model_module": "@jupyter-widgets/base",
          "model_module_version": "1.2.0",
          "model_name": "LayoutModel",
          "state": {
            "_model_module": "@jupyter-widgets/base",
            "_model_module_version": "1.2.0",
            "_model_name": "LayoutModel",
            "_view_count": null,
            "_view_module": "@jupyter-widgets/base",
            "_view_module_version": "1.2.0",
            "_view_name": "LayoutView",
            "align_content": null,
            "align_items": null,
            "align_self": null,
            "border": null,
            "bottom": null,
            "display": null,
            "flex": null,
            "flex_flow": null,
            "grid_area": null,
            "grid_auto_columns": null,
            "grid_auto_flow": null,
            "grid_auto_rows": null,
            "grid_column": null,
            "grid_gap": null,
            "grid_row": null,
            "grid_template_areas": null,
            "grid_template_columns": null,
            "grid_template_rows": null,
            "height": null,
            "justify_content": null,
            "justify_items": null,
            "left": null,
            "margin": null,
            "max_height": null,
            "max_width": null,
            "min_height": null,
            "min_width": null,
            "object_fit": null,
            "object_position": null,
            "order": null,
            "overflow": null,
            "overflow_x": null,
            "overflow_y": null,
            "padding": null,
            "right": null,
            "top": null,
            "visibility": null,
            "width": null
          }
        },
        "af739c21c0e241daaf0fdd030283f995": {
          "model_module": "@jupyter-widgets/controls",
          "model_module_version": "1.5.0",
          "model_name": "FloatProgressModel",
          "state": {
            "_dom_classes": [],
            "_model_module": "@jupyter-widgets/controls",
            "_model_module_version": "1.5.0",
            "_model_name": "FloatProgressModel",
            "_view_count": null,
            "_view_module": "@jupyter-widgets/controls",
            "_view_module_version": "1.5.0",
            "_view_name": "ProgressView",
            "bar_style": "success",
            "description": "",
            "description_tooltip": null,
            "layout": "IPY_MODEL_9eaf3ce342304df491a9270d9040fb62",
            "max": 5,
            "min": 0,
            "orientation": "horizontal",
            "style": "IPY_MODEL_2222795a07204daa8c904f53707d1c45",
            "value": 5
          }
        },
        "d93d99c4557f4d4e83f4633964fa39bd": {
          "model_module": "@jupyter-widgets/base",
          "model_module_version": "1.2.0",
          "model_name": "LayoutModel",
          "state": {
            "_model_module": "@jupyter-widgets/base",
            "_model_module_version": "1.2.0",
            "_model_name": "LayoutModel",
            "_view_count": null,
            "_view_module": "@jupyter-widgets/base",
            "_view_module_version": "1.2.0",
            "_view_name": "LayoutView",
            "align_content": null,
            "align_items": null,
            "align_self": null,
            "border": null,
            "bottom": null,
            "display": null,
            "flex": null,
            "flex_flow": null,
            "grid_area": null,
            "grid_auto_columns": null,
            "grid_auto_flow": null,
            "grid_auto_rows": null,
            "grid_column": null,
            "grid_gap": null,
            "grid_row": null,
            "grid_template_areas": null,
            "grid_template_columns": null,
            "grid_template_rows": null,
            "height": null,
            "justify_content": null,
            "justify_items": null,
            "left": null,
            "margin": null,
            "max_height": null,
            "max_width": null,
            "min_height": null,
            "min_width": null,
            "object_fit": null,
            "object_position": null,
            "order": null,
            "overflow": null,
            "overflow_x": null,
            "overflow_y": null,
            "padding": null,
            "right": null,
            "top": null,
            "visibility": null,
            "width": null
          }
        },
        "db6ed50e6e7c4ce88a34c1be521908ec": {
          "model_module": "@jupyter-widgets/controls",
          "model_module_version": "1.5.0",
          "model_name": "DescriptionStyleModel",
          "state": {
            "_model_module": "@jupyter-widgets/controls",
            "_model_module_version": "1.5.0",
            "_model_name": "DescriptionStyleModel",
            "_view_count": null,
            "_view_module": "@jupyter-widgets/base",
            "_view_module_version": "1.2.0",
            "_view_name": "StyleView",
            "description_width": ""
          }
        },
        "f9f283f834ae4412b88c240efccd9a14": {
          "model_module": "@jupyter-widgets/base",
          "model_module_version": "1.2.0",
          "model_name": "LayoutModel",
          "state": {
            "_model_module": "@jupyter-widgets/base",
            "_model_module_version": "1.2.0",
            "_model_name": "LayoutModel",
            "_view_count": null,
            "_view_module": "@jupyter-widgets/base",
            "_view_module_version": "1.2.0",
            "_view_name": "LayoutView",
            "align_content": null,
            "align_items": null,
            "align_self": null,
            "border": null,
            "bottom": null,
            "display": null,
            "flex": null,
            "flex_flow": null,
            "grid_area": null,
            "grid_auto_columns": null,
            "grid_auto_flow": null,
            "grid_auto_rows": null,
            "grid_column": null,
            "grid_gap": null,
            "grid_row": null,
            "grid_template_areas": null,
            "grid_template_columns": null,
            "grid_template_rows": null,
            "height": null,
            "justify_content": null,
            "justify_items": null,
            "left": null,
            "margin": null,
            "max_height": null,
            "max_width": null,
            "min_height": null,
            "min_width": null,
            "object_fit": null,
            "object_position": null,
            "order": null,
            "overflow": null,
            "overflow_x": null,
            "overflow_y": null,
            "padding": null,
            "right": null,
            "top": null,
            "visibility": null,
            "width": null
          }
        }
      }
    }
  },
  "nbformat": 4,
  "nbformat_minor": 0
}
